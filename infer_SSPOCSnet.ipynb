{
 "cells": [
  {
   "cell_type": "code",
   "execution_count": null,
   "metadata": {
    "scrolled": true
   },
   "outputs": [],
   "source": [
    "import os\n",
    "import matplotlib.pyplot as plt\n",
    "import numpy as np\n",
    "import random\n",
    "import tensorflow as tf\n",
    "from networks_model import *\n",
    "from data_loader import *\n",
    "from error_functions import *\n",
    "import datetime\n",
    "from keras.callbacks import EarlyStopping\n",
    "from keras.utils import multi_gpu_model\n",
    "import scipy.io as sio\n",
    "from QSM_func import *"
   ]
  },
  {
   "cell_type": "code",
   "execution_count": null,
   "metadata": {},
   "outputs": [],
   "source": [
    "os.environ[\"CUDA_DEVICE_ORDER\"]=\"PCI_BUS_ID\"\n",
    "os.environ[\"CUDA_VISIBLE_DEVICES\"]='1'"
   ]
  },
  {
   "cell_type": "code",
   "execution_count": null,
   "metadata": {},
   "outputs": [],
   "source": [
    "opt = {}\n",
    "opt['datatype'] = 'cos' # 'cos' for COSMOS / 'rc2' for simulated data using reconstruction challenge 2\n",
    "\n",
    "'''in vivo'''\n",
    "if opt['datatype'] == 'cos':\n",
    "    opt['train_path'] = '/media/hd1/sylar/data'\n",
    "    opt['train_img1_path'] = '/msk_arr'\n",
    "    opt['train_img2_path'] = '/phs_unwrap_total'\n",
    "    opt['train_label_path'] = '/chi_cosmos'\n",
    "    opt['patch_size'] = (160,160,160)\n",
    "    opt['reso'] = (1.06,1.06,1.06)\n",
    "    opt['out_dir'] = '/home/sylar/data/invivo/data/single-step/'\n",
    "\n",
    "if opt['datatype'] == 'rc2':\n",
    "    opt['train_path'] = '/home/sylar/data/invivo/RC2/DGM_HR/'\n",
    "    opt['train_img1_path'] = 'msk_arr'\n",
    "    opt['train_img2_path'] = 'unphs'\n",
    "    opt['train_label_path'] = 'Chi'\n",
    "    opt['patch_size'] = (256,320,320)\n",
    "    opt['reso'] = (0.64,0.64,0.64)\n",
    "    opt['out_dir'] = '/home/sylar/data/invivo/RC2/DGM_HR/' \n",
    "\n",
    "if opt['datatype'] == 'phan':\n",
    "    opt['train_path'] = '/home/sylar/data/Simu/simu_RC2/test_data'\n",
    "    opt['train_img1_path'] = '/cmsk_arr'\n",
    "    opt['train_img2_path'] = '/Cphs_total'\n",
    "    opt['train_label_path'] = '/Cchi'\n",
    "    opt['patch_size'] = (336,416,160)\n",
    "    opt['reso'] = (0.45,0.45,1)\n",
    "    opt['out_dir'] = '/home/sylar/data/Simu/simu_RC2/test_data/pred/'\n",
    "    index = sio.loadmat( '/home/sylar/data/invivo/swi_index1.mat')\n",
    "    opt['train_index'] = index['swi_index'][16:17,:]\n",
    "    \n",
    "if opt['datatype'] == 'phan_lr':\n",
    "    opt['train_path'] = '/home/sylar/data/Simu/simu_RC2/test_data/low_reso'\n",
    "    opt['train_img1_path'] = '/L0p7msk_arr'\n",
    "    opt['train_img2_path'] = '/L0p7phs_total'\n",
    "    opt['train_label_path'] = '/L0p7chi'\n",
    "    opt['patch_size'] = (336,416,128)\n",
    "    opt['reso'] = (0.45,0.45,1.5)\n",
    "    opt['out_dir'] = '/home/sylar/data/Simu/simu_RC2/test_data/pred/'\n",
    "    index = sio.loadmat( '/home/sylar/data/invivo/swi_index1.mat')\n",
    "    opt['train_index'] = index['swi_index'][16:21,:]\n",
    "    \n",
    "\n",
    "opt['rad'] = [3]\n",
    "opt['ker'] = []\n",
    "opt['ker'] = multi_smv_gen(opt)\n",
    "\n",
    "opt['lbd1'] = 0.1\n",
    "opt['iter'] = 5\n",
    "opt['batch_size'] = 1\n",
    "opt['img_shape'] = opt['patch_size'] + (len(opt['rad'])+1,)\n",
    "opt['in_shape'] = opt['patch_size'] + (1,)\n",
    "opt['is_patch'] = True\n",
    "\n",
    "opt['model_restored_epoch'] = 111\n",
    "\n",
    "opt['loss'] = nrmse\n",
    "opt['display_nums'] = [70,50,100]\n",
    "opt['model_save_path'] = '/home/maii_station_1/Desktop/codes/SS-POCSnet/modelss_saved' \n",
    "\n",
    "opt['checkpoint_path'] = opt['model_save_path']+\"/cp{epoch}\""
   ]
  },
  {
   "cell_type": "code",
   "execution_count": null,
   "metadata": {},
   "outputs": [],
   "source": [
    "s = 1\n",
    "i = 11\n",
    "j = 61\n",
    "opt['index1'] = list(range(s,i))\n",
    "opt['index2'] = list(range(1,j))"
   ]
  },
  {
   "cell_type": "code",
   "execution_count": null,
   "metadata": {
    "scrolled": true
   },
   "outputs": [],
   "source": [
    "opt['test_data'] = Data_loaders_invivo(opt)\n",
    "x1_test, x2_test, y_test = opt['test_data'].next([0],opt)\n",
    "print(opt['test_data'].data_size)"
   ]
  },
  {
   "cell_type": "code",
   "execution_count": null,
   "metadata": {
    "scrolled": false
   },
   "outputs": [],
   "source": [
    "'''data preview'''\n",
    "plt_center(x1_test, x2_test, y_test)"
   ]
  },
  {
   "cell_type": "code",
   "execution_count": null,
   "metadata": {
    "scrolled": true
   },
   "outputs": [],
   "source": [
    "model = {}\n",
    "model['vnet'] = base_unet(opt, 1)\n",
    "model['vnet'].load_weights(opt['checkpoint_path'].format(epoch = opt['model_restored_epoch']))"
   ]
  },
  {
   "cell_type": "code",
   "execution_count": null,
   "metadata": {
    "scrolled": true
   },
   "outputs": [],
   "source": [
    "nr_im = opt['test_data'].data_size\n",
    "start_time = datetime.datetime.now()\n",
    "opt['lbd1'] = 0.1\n",
    "opt['lbd0'] = 0\n",
    "opt['c_iter'] = 5\n",
    "opt['iter'] = 5\n",
    "opt['thr']  = 0.001\n",
    "opt['rad'] = [5,3,1]\n",
    "opt['ker'] = []\n",
    "opt['ker'] = multi_smv_gen(opt)\n",
    "opt['d'] = dipole_kernel(opt)\n",
    "\n",
    "nr_im_per_epoch = int(np.ceil(nr_im/ opt['batch_size']) * opt['batch_size'])\n",
    "if nr_im < opt['batch_size']:\n",
    "    order = list(range(nr_im)) + [nr_im-1]*(opt['batch_size']-nr_im)\n",
    "else:\n",
    "    order = list(range(nr_im)) + list(range(nr_im_per_epoch - nr_im))\n",
    "m=s-1\n",
    "n=0\n",
    "avg_img_cost = []\n",
    "\n",
    "smv, l = smv_lpf_array(opt)\n",
    "\n",
    "for block_i in range(0, opt['test_data'].data_size, opt['batch_size']):\n",
    "    if block_i % (j-1) ==0:\n",
    "        m+=1\n",
    "    n+=1\n",
    "    if n>(j-1):\n",
    "        n=1\n",
    "    indices = order[block_i:block_i + opt['batch_size']]\n",
    "    x1_test, x2_test, y_test = opt['test_data'].next(indices,opt)\n",
    "    x = np.concatenate((x1_test, x2_test),axis=-1)\n",
    "    \n",
    "    print('-----subject-'+str(m)+'-----'+str(n))\n",
    "\n",
    "    L = tf.zeros_like(x[...,1:2])\n",
    "    msk = L\n",
    "    for m in range(len(opt['rad'])):\n",
    "        msk = msk + x[...,m:m+1]\n",
    "\n",
    "    x_k = conjgrad_sst_opt(x[...,0:len(opt['rad'])], L,x[...,len(opt['rad']):len(opt['rad'])+1],L,smv,l,opt)\n",
    "    for it in range(opt['iter']):\n",
    "        net_out = model['vnet'].predict(x_k.numpy())\n",
    "        x_k = conjgrad_sst_opt(x[...,0:len(opt['rad'])],x_k,x[...,len(opt['rad']):len(opt['rad'])+1],net_out,d,smv,l,opt)\n",
    "\n",
    "    m_loss = np.linalg.norm(x_k*msk-y_test*msk)/np.linalg.norm(y_test*msk)\n",
    "\n",
    "    # Plot the progress\n",
    "    print (\"[Batch %d/%d] [Model loss: %f/%f]\" % (block_i+1, nr_im_per_epoch, m_loss, m_loss))\n",
    "    avg_img_cost.append(m_loss)\n",
    "\n",
    "    elapsed_time = datetime.datetime.now() - start_time\n",
    "    print(elapsed_time)\n",
    "\n",
    "    s = 1 # scaling factor\n",
    "\n",
    "    if opt['datatype'] == 'phan' or opt['datatype'] == 'phan_lr':\n",
    "        save_nii(msk.numpy().squeeze(), opt['reso'],  opt['out_dir'], 'msk_sslmic_1r_0p7'+str(opt['train_index'][block_i, 0])+'-'+str(opt['train_index'][block_i, 1]))\n",
    "        save_nii((x_k.numpy()*msk.numpy()/s).squeeze(), opt['reso'],  opt['out_dir'], 'qsm_sslmic_0p7xk'+str(opt['train_index'][block_i, 0])+'-'+str(opt['train_index'][block_i, 1]))\n",
    "        save_nii((net_out*msk.numpy()/s).squeeze(), opt['reso'],  opt['out_dir'], 'qsm_sslmic_0p7net'+str(opt['train_index'][block_i, 0])+'-'+str(opt['train_index'][block_i, 1]))\n",
    "        save_nii((y_test*msk.numpy()/s).squeeze(), opt['reso'],  opt['out_dir'], 'qsm_sslmic_0p7truth'+str(opt['train_index'][block_i, 0])+'-'+str(opt['train_index'][block_i, 1]))\n",
    "\n",
    "    if opt['datatype'] == 'rc2' or opt['datatype'] == 'phan_e':\n",
    "        save_nii((net_out*msk.numpy()/s).squeeze(), opt['reso'],  opt['out_dir'], 'simu_sslmic_0.1net')\n",
    "        save_nii((x_k.numpy()*msk.numpy()/s).squeeze(), opt['reso'],  opt['out_dir'], 'simu_sslmic_0.1xk')\n",
    "        save_nii((y_test*msk.numpy()/s).squeeze(), opt['reso'],  opt['out_dir'], 'simu_sslmic_0.1truth')\n",
    "        \n",
    "    if opt['datatype'] == 'cos':\n",
    "        save_nii((net_out*msk.numpy()/s).squeeze(), opt['reso'],  opt['out_dir'], 'cosmos_psslmic_trun_0.1net')\n",
    "        save_nii((x_k.numpy()*msk.numpy()/s).squeeze(), opt['reso'],  opt['out_dir'], 'cosmos_psslmic_trun_0.1xk')\n",
    "\n",
    "    display_slice(0, opt['display_nums'], net_out/s, x_k.numpy()/s, y_test/s)\n",
    "epoch_loss = np.mean(avg_img_cost)\n",
    "\n",
    "print(\"Testing_cost=\", \"{:.5f}\".format(epoch_loss))\n",
    "        "
   ]
  },
  {
   "cell_type": "code",
   "execution_count": null,
   "metadata": {},
   "outputs": [],
   "source": []
  }
 ],
 "metadata": {
  "kernelspec": {
   "display_name": "Python 3",
   "language": "python",
   "name": "python3"
  },
  "language_info": {
   "codemirror_mode": {
    "name": "ipython",
    "version": 3
   },
   "file_extension": ".py",
   "mimetype": "text/x-python",
   "name": "python",
   "nbconvert_exporter": "python",
   "pygments_lexer": "ipython3",
   "version": "3.7.9"
  },
  "varInspector": {
   "cols": {
    "lenName": 16,
    "lenType": 16,
    "lenVar": 40
   },
   "kernels_config": {
    "python": {
     "delete_cmd_postfix": "",
     "delete_cmd_prefix": "del ",
     "library": "var_list.py",
     "varRefreshCmd": "print(var_dic_list())"
    },
    "r": {
     "delete_cmd_postfix": ") ",
     "delete_cmd_prefix": "rm(",
     "library": "var_list.r",
     "varRefreshCmd": "cat(var_dic_list()) "
    }
   },
   "types_to_exclude": [
    "module",
    "function",
    "builtin_function_or_method",
    "instance",
    "_Feature"
   ],
   "window_display": false
  }
 },
 "nbformat": 4,
 "nbformat_minor": 4
}
